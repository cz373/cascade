{
 "cells": [
  {
   "cell_type": "markdown",
   "id": "ea1bb6cd",
   "metadata": {},
   "source": [
    "# BEEM011 Assignment December 2022"
   ]
  },
  {
   "cell_type": "markdown",
   "id": "4c40fa97",
   "metadata": {},
   "source": [
    "CANDIDATE NUMBER  257454"
   ]
  },
  {
   "cell_type": "markdown",
   "id": "d6fc1679",
   "metadata": {},
   "source": [
    "### Instructions\n",
    "\n",
    "#### Summative assessment\n",
    "Direction: This Assignment consists of 3 questions. There are 100 marks in total. \n",
    "\n",
    "For each question, 5% of marks are reserved for evidence of best practice in R coding, marks for sub-questions therefore add up to 95% of the total marks for each question.\n",
    "\n",
    "Answer all the questions and upload your Jupyter Notebook and a PDF copy to the BART submission point. \n",
    "\n",
    "#### WRITE YOUR R CODE AND ANSWERS FOR ALL OF THE QUESTIONS IN THIS JUPYTER NOTEBOOK.  PLEASE INCLUDE YOUR CANDIDATE NUMBER IN A COMMENT AT THE TOP OF YOUR CODE.\n",
    "\n",
    "\n",
    "#### DO NOT PUT YOUR NAME ANYWHERE IN THE ASSIGNMENT.\n",
    "\n",
    "\n",
    "Make sure to include your Jupyter Notebook file (.ipynb) as an upload to your submission. Please comment on each procedure to explain what you are doing (or intend to do). Submission is via BART.\n",
    "Submission of an incorrect filetype will result in the deduction of marks.\n",
    "\n",
    "Read and answer each of the questions using your own code and words.  \n",
    "\n",
    "Collaboration with others and plagiarism of other people's code is not permitted. Presenting someone else's code as your own work is misrepresentation, an academic conduct offence.\n"
   ]
  },
  {
   "cell_type": "markdown",
   "id": "d78aebbb",
   "metadata": {},
   "source": [
    "#### Download the \"investCEO.csv\" dataset and save it in your BEEM011 folder"
   ]
  },
  {
   "cell_type": "markdown",
   "id": "fe357ed2",
   "metadata": {},
   "source": [
    "### The Data\n",
    "\n",
    "This assignment takes inspiration from the work of Malmendier and Tate (2005) who analyzed Corporate Investment and CEO overconfidence.  The objective was to understand whether managerial overconfidence is a determinant of corporate investment distortions.\n",
    "\n",
    "\"Overconfident managers overestimate the returns to their investment projects and view external funds as unduly costly. Thus, they overinvest when they have abundant internal funds, but curtail investment when they require external financing.\" - Malmendier and Tate (2005, abstract)\n",
    "\n",
    "Malmendier and Tate tested their \"overconfidence hypothesis\", that the investment of overconfident CEOs would be more responsive to cash flow than that of non-overconfident CEOs.  To do this they constructed a panel data set of the personal portfolio and corporate investment decisions of Forbes 500 CEOs. They classified CEOs as overconfident if they persistently fail to reduce their personal exposure to company-specific risk. \n",
    "\n",
    "In this assignment you will test the overconfidence hypothesis using a different set of data.  The variables included in the dataset are:\n",
    "\n",
    "\n",
    "* *year* <ul> Year of the observation </ul>\n",
    "\n",
    "* *firmid*  <ul> A firm specific identifier </ul>\n",
    "\n",
    "* *I* <ul> Investment (%), defined as firm capital expenditures as a percentage of capital at the beginning of the year </ul>\n",
    "\n",
    "* *CF*  <ul> Cash flow, defined as earnings before extraordinary items plus depreciation as a percentage of capital at the beginning of the year </ul>\n",
    "\n",
    "* *MV* <ul> Market value of assets over book value of assets at the beginning of the year (%) </ul>\n",
    "\n",
    "* *S* <ul> Percentage of total shares owned by CEO or CEO's family (%)</ul>\n",
    "\n",
    "* *size* <ul> Logarithm of assets (£) at the beginning of the year </ul>\n",
    "\n",
    "* *CG* <ul> Number of outside directors who are CEOs in other companies </ul>\n",
    "\n",
    "* *TC* <ul> Press based overconfidence measure, the number of articles mentioning CEO as \"confident\" or \"optimistic\" </ul>\n",
    "\n",
    "* *TD* <ul> A dummy variable equal to 1 if the majority of articles portrayed confidence and 0 otherwise </ul>\n",
    "\n",
    "\n",
    "#### References\n",
    "\n",
    "Malmendier, U., & Tate, G. (2005a). CEO overconfidence and corporate investment. The journal of Finance, 60(6), 2661-2700.\n",
    "\n",
    "Malmendier, U., & Tate, G. (2005b). Does overconfidence affect corporate investment? CEO overconfidence measures revisited. European Financial Management, 11(5), 649-659."
   ]
  },
  {
   "cell_type": "code",
   "execution_count": 12,
   "id": "0ff5b55b",
   "metadata": {},
   "outputs": [
    {
     "name": "stderr",
     "output_type": "stream",
     "text": [
      "Warning message:\n",
      "\"package 'margins' was built under R version 3.6.3\""
     ]
    }
   ],
   "source": [
    "library(lmtest)\n",
    "library(stargazer) \n",
    "library(MASS)\n",
    "library(stargazer)\n",
    "library(plm)\n",
    "library(ggplot2)\n",
    "library(car)\n",
    "library(margins)\n",
    "# Set plot size to 4 x 3\n",
    "options(repr.plot.width=6, repr.plot.height=4)"
   ]
  },
  {
   "cell_type": "markdown",
   "id": "6b1a9d45",
   "metadata": {},
   "source": [
    "## Question 1 - Exploring the data\n",
    "\n",
    "### a i)\n",
    "\n",
    "Load the data and store it in an object called \"CEOdata\" (2 marks)"
   ]
  },
  {
   "cell_type": "code",
   "execution_count": 2,
   "id": "7c9d6d3c",
   "metadata": {},
   "outputs": [
    {
     "data": {
      "text/html": [
       "<table>\n",
       "<thead><tr><th scope=col>X</th><th scope=col>I</th><th scope=col>year</th><th scope=col>firmid</th><th scope=col>CF</th><th scope=col>MV</th><th scope=col>S</th><th scope=col>size</th><th scope=col>CG</th><th scope=col>TC</th><th scope=col>TD</th></tr></thead>\n",
       "<tbody>\n",
       "\t<tr><td>1         </td><td>43.819809 </td><td>2014      </td><td>1         </td><td>38.707367 </td><td>-0.6243080</td><td>51.53569  </td><td>15.34471  </td><td>4         </td><td>58.37659  </td><td>0         </td></tr>\n",
       "\t<tr><td>2         </td><td> 8.607709 </td><td>2015      </td><td>1         </td><td> 6.953518 </td><td>-0.6198200</td><td>53.08951  </td><td>14.70605  </td><td>3         </td><td>54.91905  </td><td>0         </td></tr>\n",
       "\t<tr><td>3         </td><td>33.864362 </td><td>2016      </td><td>1         </td><td>29.062855 </td><td>-0.9727826</td><td>53.70401  </td><td>14.97030  </td><td>2         </td><td>61.67488  </td><td>0         </td></tr>\n",
       "\t<tr><td>4         </td><td>52.473835 </td><td>2017      </td><td>1         </td><td>39.714721 </td><td>-1.7624451</td><td>53.63398  </td><td>15.41372  </td><td>2         </td><td>58.71316  </td><td>0         </td></tr>\n",
       "\t<tr><td>5         </td><td>40.123265 </td><td>2018      </td><td>1         </td><td>37.088101 </td><td>-1.4425642</td><td>52.54098  </td><td>14.22295  </td><td>2         </td><td>56.21433  </td><td>0         </td></tr>\n",
       "\t<tr><td>6         </td><td> 8.304938 </td><td>2019      </td><td>1         </td><td> 5.264080 </td><td>-1.9769940</td><td>52.90180  </td><td>14.54670  </td><td>2         </td><td>57.69962  </td><td>0         </td></tr>\n",
       "</tbody>\n",
       "</table>\n"
      ],
      "text/latex": [
       "\\begin{tabular}{r|lllllllllll}\n",
       " X & I & year & firmid & CF & MV & S & size & CG & TC & TD\\\\\n",
       "\\hline\n",
       "\t 1          & 43.819809  & 2014       & 1          & 38.707367  & -0.6243080 & 51.53569   & 15.34471   & 4          & 58.37659   & 0         \\\\\n",
       "\t 2          &  8.607709  & 2015       & 1          &  6.953518  & -0.6198200 & 53.08951   & 14.70605   & 3          & 54.91905   & 0         \\\\\n",
       "\t 3          & 33.864362  & 2016       & 1          & 29.062855  & -0.9727826 & 53.70401   & 14.97030   & 2          & 61.67488   & 0         \\\\\n",
       "\t 4          & 52.473835  & 2017       & 1          & 39.714721  & -1.7624451 & 53.63398   & 15.41372   & 2          & 58.71316   & 0         \\\\\n",
       "\t 5          & 40.123265  & 2018       & 1          & 37.088101  & -1.4425642 & 52.54098   & 14.22295   & 2          & 56.21433   & 0         \\\\\n",
       "\t 6          &  8.304938  & 2019       & 1          &  5.264080  & -1.9769940 & 52.90180   & 14.54670   & 2          & 57.69962   & 0         \\\\\n",
       "\\end{tabular}\n"
      ],
      "text/markdown": [
       "\n",
       "| X | I | year | firmid | CF | MV | S | size | CG | TC | TD |\n",
       "|---|---|---|---|---|---|---|---|---|---|---|\n",
       "| 1          | 43.819809  | 2014       | 1          | 38.707367  | -0.6243080 | 51.53569   | 15.34471   | 4          | 58.37659   | 0          |\n",
       "| 2          |  8.607709  | 2015       | 1          |  6.953518  | -0.6198200 | 53.08951   | 14.70605   | 3          | 54.91905   | 0          |\n",
       "| 3          | 33.864362  | 2016       | 1          | 29.062855  | -0.9727826 | 53.70401   | 14.97030   | 2          | 61.67488   | 0          |\n",
       "| 4          | 52.473835  | 2017       | 1          | 39.714721  | -1.7624451 | 53.63398   | 15.41372   | 2          | 58.71316   | 0          |\n",
       "| 5          | 40.123265  | 2018       | 1          | 37.088101  | -1.4425642 | 52.54098   | 14.22295   | 2          | 56.21433   | 0          |\n",
       "| 6          |  8.304938  | 2019       | 1          |  5.264080  | -1.9769940 | 52.90180   | 14.54670   | 2          | 57.69962   | 0          |\n",
       "\n"
      ],
      "text/plain": [
       "  X I         year firmid CF        MV         S        size     CG TC       TD\n",
       "1 1 43.819809 2014 1      38.707367 -0.6243080 51.53569 15.34471 4  58.37659 0 \n",
       "2 2  8.607709 2015 1       6.953518 -0.6198200 53.08951 14.70605 3  54.91905 0 \n",
       "3 3 33.864362 2016 1      29.062855 -0.9727826 53.70401 14.97030 2  61.67488 0 \n",
       "4 4 52.473835 2017 1      39.714721 -1.7624451 53.63398 15.41372 2  58.71316 0 \n",
       "5 5 40.123265 2018 1      37.088101 -1.4425642 52.54098 14.22295 2  56.21433 0 \n",
       "6 6  8.304938 2019 1       5.264080 -1.9769940 52.90180 14.54670 2  57.69962 0 "
      ]
     },
     "metadata": {},
     "output_type": "display_data"
    }
   ],
   "source": [
    "CEOdata <- read.csv(\"investCEO.csv\",row.name=1)\n",
    "head(CEOdata)"
   ]
  },
  {
   "cell_type": "markdown",
   "id": "b5eeac28",
   "metadata": {},
   "source": [
    "### ii) \n",
    "\n",
    "Explore the data -\n",
    "- What time period does it cover?\n",
    "- How many firms are included in the dataset?\n",
    "- How many observations are in the dataset?\n",
    "- Is the dataset balanced?\n",
    "\n",
    "(3 marks)"
   ]
  },
  {
   "cell_type": "code",
   "execution_count": 3,
   "id": "5030275e",
   "metadata": {},
   "outputs": [
    {
     "data": {
      "text/html": [
       "<ol class=list-inline>\n",
       "\t<li>2014</li>\n",
       "\t<li>2021</li>\n",
       "</ol>\n"
      ],
      "text/latex": [
       "\\begin{enumerate*}\n",
       "\\item 2014\n",
       "\\item 2021\n",
       "\\end{enumerate*}\n"
      ],
      "text/markdown": [
       "1. 2014\n",
       "2. 2021\n",
       "\n",
       "\n"
      ],
      "text/plain": [
       "[1] 2014 2021"
      ]
     },
     "metadata": {},
     "output_type": "display_data"
    },
    {
     "name": "stdout",
     "output_type": "stream",
     "text": [
      "\n",
      " Number of years: 8\n",
      " Number of firms: 80"
     ]
    },
    {
     "data": {
      "text/html": [
       "640"
      ],
      "text/latex": [
       "640"
      ],
      "text/markdown": [
       "640"
      ],
      "text/plain": [
       "[1] 640"
      ]
     },
     "metadata": {},
     "output_type": "display_data"
    },
    {
     "data": {
      "text/html": [
       "TRUE"
      ],
      "text/latex": [
       "TRUE"
      ],
      "text/markdown": [
       "TRUE"
      ],
      "text/plain": [
       "[1] TRUE"
      ]
     },
     "metadata": {},
     "output_type": "display_data"
    }
   ],
   "source": [
    "# Provide your code here\n",
    "# What time period does it cover?\n",
    "year.range <- range(CEOdata$year)\n",
    "year.range\n",
    "cat(\"\\n Number of years:\", length(unique(CEOdata$year)))\n",
    "\n",
    "#How many firms are included in the dataset?\n",
    "cat(\"\\n Number of firms:\", length(unique(CEOdata$firmid)))\n",
    "\n",
    "# How many observations are in the dataset?\n",
    "length(CEOdata$firmid)\n",
    "\n",
    "#Is the dataset balanced? \n",
    "is.pbalanced(CEOdata, index = c( \"year\",\"firmid\"))"
   ]
  },
  {
   "cell_type": "markdown",
   "id": "838ab9d6",
   "metadata": {},
   "source": [
    "#### Provide your answer here \n",
    "\n",
    "- What time period does it cover?\n",
    " 8 years\n",
    "- How many firms are included in the dataset?\n",
    "The dataset contains data from 80 firms\n",
    "- How many observations are in the dataset?\n",
    " The dataset contains 640 observations\n",
    "- Is the dataset balanced?\n",
    " True"
   ]
  },
  {
   "cell_type": "markdown",
   "id": "43c6759d",
   "metadata": {},
   "source": [
    "### iii) \n",
    "\n",
    "Plot a histogram of Investment, $I_{it}$, and describe its distribution (5 marks)"
   ]
  },
  {
   "cell_type": "code",
   "execution_count": 4,
   "id": "66e69d56",
   "metadata": {},
   "outputs": [
    {
     "data": {
      "text/plain": [
       "   Min. 1st Qu.  Median    Mean 3rd Qu.    Max. \n",
       " -4.686  13.062  21.954  23.243  33.063  61.174 "
      ]
     },
     "metadata": {},
     "output_type": "display_data"
    },
    {
     "data": {
      "text/html": [
       "23.2425757869097"
      ],
      "text/latex": [
       "23.2425757869097"
      ],
      "text/markdown": [
       "23.2425757869097"
      ],
      "text/plain": [
       "[1] 23.24258"
      ]
     },
     "metadata": {},
     "output_type": "display_data"
    },
    {
     "data": {
      "image/png": "[encoded data removed]",
      "text/plain": [
       "Plot with title \"Histogram of CEOdata$I\""
      ]
     },
     "metadata": {},
     "output_type": "display_data"
    }
   ],
   "source": [
    "# Provide your code here\n",
    "hist(CEOdata$I)\n",
    "\n",
    "mean_I <- mean(CEOdata$I)\n",
    "summary(CEOdata$I)\n",
    "mean_I \n",
    "\n",
    "abline(v = mean_I, col = 'blue')"
   ]
  },
  {
   "cell_type": "markdown",
   "id": "c0aa318e",
   "metadata": {},
   "source": [
    "#### Provide your answer here \n",
    "The histogram shows a high shape in the middle and low in the sides, but the middle part shows multimodal, indicating that I is basically distributed in the range of 13.062-33.063, with a mean value of 23.24."
   ]
  },
  {
   "cell_type": "markdown",
   "id": "4748e765",
   "metadata": {},
   "source": [
    "## b i)\n",
    "\n",
    "- Set the seed to your candidate number (1 mark)\n",
    "- Randomly choose a one year time period from the dataset, save the randomly selected time period as indext. Report the value of indext (1.5 marks)\n",
    "- Create a subset of the dataset for your chosen time period. Label your new dataset as mydata. (1.5 marks)"
   ]
  },
  {
   "cell_type": "code",
   "execution_count": 5,
   "id": "0b029b07",
   "metadata": {},
   "outputs": [
    {
     "data": {
      "text/html": [
       "2015"
      ],
      "text/latex": [
       "2015"
      ],
      "text/markdown": [
       "2015"
      ],
      "text/plain": [
       "[1] 2015"
      ]
     },
     "metadata": {},
     "output_type": "display_data"
    },
    {
     "data": {
      "text/html": [
       "80"
      ],
      "text/latex": [
       "80"
      ],
      "text/markdown": [
       "80"
      ],
      "text/plain": [
       "[1] 80"
      ]
     },
     "metadata": {},
     "output_type": "display_data"
    },
    {
     "data": {
      "text/html": [
       "<table>\n",
       "<thead><tr><th></th><th scope=col>X</th><th scope=col>I</th><th scope=col>year</th><th scope=col>firmid</th><th scope=col>CF</th><th scope=col>MV</th><th scope=col>S</th><th scope=col>size</th><th scope=col>CG</th><th scope=col>TC</th><th scope=col>TD</th></tr></thead>\n",
       "<tbody>\n",
       "\t<tr><th scope=row>2</th><td> 2       </td><td> 8.607709</td><td>2015     </td><td>1        </td><td> 6.953518</td><td>-0.619820</td><td>53.08951 </td><td>14.70605 </td><td>3        </td><td> 54.91905</td><td>0        </td></tr>\n",
       "\t<tr><th scope=row>10</th><td>10       </td><td>23.988174</td><td>2015     </td><td>2        </td><td>35.846055</td><td> 6.875068</td><td>55.48489 </td><td>15.26616 </td><td>9        </td><td> 67.02083</td><td>0        </td></tr>\n",
       "\t<tr><th scope=row>18</th><td>18       </td><td>33.292961</td><td>2015     </td><td>3        </td><td>29.171818</td><td>-1.509708</td><td>71.37975 </td><td>15.45963 </td><td>1        </td><td> 92.95555</td><td>1        </td></tr>\n",
       "\t<tr><th scope=row>26</th><td>26       </td><td>29.994347</td><td>2015     </td><td>4        </td><td>30.846439</td><td> 6.078643</td><td>56.66965 </td><td>15.04939 </td><td>1        </td><td> 20.80286</td><td>0        </td></tr>\n",
       "\t<tr><th scope=row>34</th><td>34       </td><td>11.065406</td><td>2015     </td><td>5        </td><td> 7.427105</td><td> 3.807085</td><td>28.01592 </td><td>15.08492 </td><td>5        </td><td>105.83526</td><td>0        </td></tr>\n",
       "\t<tr><th scope=row>42</th><td>42       </td><td> 5.334032</td><td>2015     </td><td>6        </td><td> 4.831380</td><td>-1.678691</td><td>49.63324 </td><td>14.00852 </td><td>0        </td><td> 95.85844</td><td>0        </td></tr>\n",
       "</tbody>\n",
       "</table>\n"
      ],
      "text/latex": [
       "\\begin{tabular}{r|lllllllllll}\n",
       "  & X & I & year & firmid & CF & MV & S & size & CG & TC & TD\\\\\n",
       "\\hline\n",
       "\t2 &  2        &  8.607709 & 2015      & 1         &  6.953518 & -0.619820 & 53.08951  & 14.70605  & 3         &  54.91905 & 0        \\\\\n",
       "\t10 & 10        & 23.988174 & 2015      & 2         & 35.846055 &  6.875068 & 55.48489  & 15.26616  & 9         &  67.02083 & 0        \\\\\n",
       "\t18 & 18        & 33.292961 & 2015      & 3         & 29.171818 & -1.509708 & 71.37975  & 15.45963  & 1         &  92.95555 & 1        \\\\\n",
       "\t26 & 26        & 29.994347 & 2015      & 4         & 30.846439 &  6.078643 & 56.66965  & 15.04939  & 1         &  20.80286 & 0        \\\\\n",
       "\t34 & 34        & 11.065406 & 2015      & 5         &  7.427105 &  3.807085 & 28.01592  & 15.08492  & 5         & 105.83526 & 0        \\\\\n",
       "\t42 & 42        &  5.334032 & 2015      & 6         &  4.831380 & -1.678691 & 49.63324  & 14.00852  & 0         &  95.85844 & 0        \\\\\n",
       "\\end{tabular}\n"
      ],
      "text/markdown": [
       "\n",
       "| <!--/--> | X | I | year | firmid | CF | MV | S | size | CG | TC | TD |\n",
       "|---|---|---|---|---|---|---|---|---|---|---|---|\n",
       "| 2 |  2        |  8.607709 | 2015      | 1         |  6.953518 | -0.619820 | 53.08951  | 14.70605  | 3         |  54.91905 | 0         |\n",
       "| 10 | 10        | 23.988174 | 2015      | 2         | 35.846055 |  6.875068 | 55.48489  | 15.26616  | 9         |  67.02083 | 0         |\n",
       "| 18 | 18        | 33.292961 | 2015      | 3         | 29.171818 | -1.509708 | 71.37975  | 15.45963  | 1         |  92.95555 | 1         |\n",
       "| 26 | 26        | 29.994347 | 2015      | 4         | 30.846439 |  6.078643 | 56.66965  | 15.04939  | 1         |  20.80286 | 0         |\n",
       "| 34 | 34        | 11.065406 | 2015      | 5         |  7.427105 |  3.807085 | 28.01592  | 15.08492  | 5         | 105.83526 | 0         |\n",
       "| 42 | 42        |  5.334032 | 2015      | 6         |  4.831380 | -1.678691 | 49.63324  | 14.00852  | 0         |  95.85844 | 0         |\n",
       "\n"
      ],
      "text/plain": [
       "   X  I         year firmid CF        MV        S        size     CG TC       \n",
       "2   2  8.607709 2015 1       6.953518 -0.619820 53.08951 14.70605 3   54.91905\n",
       "10 10 23.988174 2015 2      35.846055  6.875068 55.48489 15.26616 9   67.02083\n",
       "18 18 33.292961 2015 3      29.171818 -1.509708 71.37975 15.45963 1   92.95555\n",
       "26 26 29.994347 2015 4      30.846439  6.078643 56.66965 15.04939 1   20.80286\n",
       "34 34 11.065406 2015 5       7.427105  3.807085 28.01592 15.08492 5  105.83526\n",
       "42 42  5.334032 2015 6       4.831380 -1.678691 49.63324 14.00852 0   95.85844\n",
       "   TD\n",
       "2  0 \n",
       "10 0 \n",
       "18 1 \n",
       "26 0 \n",
       "34 0 \n",
       "42 0 "
      ]
     },
     "metadata": {},
     "output_type": "display_data"
    }
   ],
   "source": [
    "# Provide your code here \n",
    "set.seed(257454)\n",
    "\n",
    "indext <- sample(2014:2021, size = 1)\n",
    "\n",
    "indext\n",
    "\n",
    "mydata <- subset(CEOdata,CEOdata$year==indext)\n",
    "nrow(mydata)\n",
    "head(mydata)"
   ]
  },
  {
   "cell_type": "markdown",
   "id": "477407b1",
   "metadata": {},
   "source": [
    "### b ii) \n",
    "\n",
    "### Use the subset, mydata, to answer the remaining parts of Q1\n",
    "\n",
    "- Plot the distribution of Investment, $I_{i}$, for CEOs with media portrayal classified as overconfident, i.e. $TD_i = 1$, and those who are not.  Label your plots carefully (4 marks)"
   ]
  },
  {
   "cell_type": "code",
   "execution_count": 6,
   "id": "85303c56",
   "metadata": {},
   "outputs": [
    {
     "data": {
      "text/html": [
       "10"
      ],
      "text/latex": [
       "10"
      ],
      "text/markdown": [
       "10"
      ],
      "text/plain": [
       "[1] 10"
      ]
     },
     "metadata": {},
     "output_type": "display_data"
    },
    {
     "data": {
      "image/png": "[encoded data removed]",
      "text/plain": [
       "plot without title"
      ]
     },
     "metadata": {},
     "output_type": "display_data"
    },
    {
     "data": {
      "text/html": [
       "19.762495652916"
      ],
      "text/latex": [
       "19.762495652916"
      ],
      "text/markdown": [
       "19.762495652916"
      ],
      "text/plain": [
       "[1] 19.7625"
      ]
     },
     "metadata": {},
     "output_type": "display_data"
    },
    {
     "data": {
      "image/png": "[encoded data removed]",
      "text/plain": [
       "Plot with title \"Histogram of mydata_oc$I\""
      ]
     },
     "metadata": {},
     "output_type": "display_data"
    },
    {
     "data": {
      "text/html": [
       "23.2963847696207"
      ],
      "text/latex": [
       "23.2963847696207"
      ],
      "text/markdown": [
       "23.2963847696207"
      ],
      "text/plain": [
       "[1] 23.29638"
      ]
     },
     "metadata": {},
     "output_type": "display_data"
    },
    {
     "data": {
      "image/png": "[encoded data removed]",
      "text/plain": [
       "Plot with title \"Histogram of mydata_noc$I\""
      ]
     },
     "metadata": {},
     "output_type": "display_data"
    }
   ],
   "source": [
    "# Provide your code here\n",
    "ggplot(mydata, aes(x=I, fill=factor(TD))) +\n",
    "  geom_histogram(stat=\"bin\",position=\"identity\", bins=10, alpha=0.5) +\n",
    "  scale_fill_manual(values=c(\"blue\", \"green\"))\n",
    "\n",
    "mydata_oc <- subset(mydata,mydata$TD==1)\n",
    "nrow(mydata_oc)\n",
    "hist(mydata_oc$I , labels = \"overconfident\")\n",
    "mydata_oc_mean_I <- mean(mydata_oc$I)\n",
    "mydata_oc_mean_I\n",
    "abline(v = mydata_oc_mean_I, col = 'blue')\n",
    "\n",
    "mydata_noc <- subset(mydata,mydata$TD==0)\n",
    "hist(mydata_noc$I)\n",
    "mydata_noc_mean_I <- mean(mydata_noc$I)\n",
    "mydata_noc_mean_I\n",
    "abline(v = mydata_noc_mean_I, col = 'blue')\n"
   ]
  },
  {
   "cell_type": "markdown",
   "id": "de554ffa",
   "metadata": {},
   "source": [
    "- Compare and describe the two plots (4 marks)\n",
    "\n",
    "#### Write your answers here\n",
    "-The first graph contains TD=1 (green) and TD=0 (blue). The randomly selected data is the full year 2015 dataset with 10 overconfident CEOs and 70 non-overconfident CEOs, for a total of 80. The second graph is a histogram of company capital expenditure as a percentage of beginning capital for overconfident CEOs, the histogram shows a low centre and high sides with a mean of 19.76%, due to the small amount of data with only 10, the small amount of data leads to a low confidence level.\n",
    "The third graph is a histogram of non-overconfident CEOs, the histogram shows the presence of a double peak indicating that the data is from a different CEO with a mean value of 23.30%.\n",
    "Comparing these two histograms it can be concluded that in 2015, the overconfident CEOs started the year with a smaller percentage of their company's capital expenditure as a percentage of capital, as well as a more even distribution.\n"
   ]
  },
  {
   "cell_type": "markdown",
   "id": "9354f376",
   "metadata": {},
   "source": [
    "## c i)\n",
    "\n",
    "Consider the following regression equation:\n",
    "\n",
    "$$ I_i = β_0+ β_1 CF_i + β_2 size_i + β_3 MV_i + β_4 CG_i + β_5 TD_i + β_6 (CF_i × TD_i ) + u_i $$\n",
    "\n",
    "Describe the effect of TD in this model specification (3 marks)"
   ]
  },
  {
   "cell_type": "markdown",
   "id": "b6be57e6",
   "metadata": {},
   "source": [
    "#### Write your answer here\n",
    "β_5 adds the introduction of the dummy variable TD, which only changes the intercept and has no effect on the slope. β6 is a multiplication of the dummy variable TD with the continuous variable CF, with a possible change in both slope and intercept, with the aim of introducing overconfident and non-overconfident CEOs and the effect of cash flow on I. The effect of different attribute types on I is tested.\n",
    "Whether the CEO is overconfident is introduced in both additive and multiplicative ways, and then a t-test is used to determine the final introduction."
   ]
  },
  {
   "cell_type": "markdown",
   "id": "3f2e2a08",
   "metadata": {},
   "source": [
    "## c ii)\n",
    "\n",
    "Estimate the regression equation using your subset, mydata.\n",
    "\n",
    "- Interpret the results of your estimation (5 marks)\n",
    "\n",
    "- Based on the estimated parameters, write the two regression functions for the cases where TD is 1 and 0. (4 marks)"
   ]
  },
  {
   "cell_type": "code",
   "execution_count": 7,
   "id": "5233274a",
   "metadata": {},
   "outputs": [
    {
     "data": {
      "text/html": [
       "<dl class=dl-horizontal>\n",
       "\t<dt>(Intercept)</dt>\n",
       "\t\t<dd>35.9756014986118</dd>\n",
       "\t<dt>CF</dt>\n",
       "\t\t<dd>0.974414856484507</dd>\n",
       "\t<dt>size</dt>\n",
       "\t\t<dd>-1.98644746834548</dd>\n",
       "\t<dt>MV</dt>\n",
       "\t\t<dd>0.00524922530773282</dd>\n",
       "\t<dt>CG</dt>\n",
       "\t\t<dd>-0.988054473377732</dd>\n",
       "\t<dt>TD</dt>\n",
       "\t\t<dd>-9.63983176433108</dd>\n",
       "\t<dt>CF:TD</dt>\n",
       "\t\t<dd>0.316514044335437</dd>\n",
       "</dl>\n"
      ],
      "text/latex": [
       "\\begin{description*}\n",
       "\\item[(Intercept)] 35.9756014986118\n",
       "\\item[CF] 0.974414856484507\n",
       "\\item[size] -1.98644746834548\n",
       "\\item[MV] 0.00524922530773282\n",
       "\\item[CG] -0.988054473377732\n",
       "\\item[TD] -9.63983176433108\n",
       "\\item[CF:TD] 0.316514044335437\n",
       "\\end{description*}\n"
      ],
      "text/markdown": [
       "(Intercept)\n",
       ":   35.9756014986118CF\n",
       ":   0.974414856484507size\n",
       ":   -1.98644746834548MV\n",
       ":   0.00524922530773282CG\n",
       ":   -0.988054473377732TD\n",
       ":   -9.63983176433108CF:TD\n",
       ":   0.316514044335437\n",
       "\n"
      ],
      "text/plain": [
       " (Intercept)           CF         size           MV           CG           TD \n",
       "35.975601499  0.974414856 -1.986447468  0.005249225 -0.988054473 -9.639831764 \n",
       "       CF:TD \n",
       " 0.316514044 "
      ]
     },
     "metadata": {},
     "output_type": "display_data"
    },
    {
     "data": {
      "text/plain": [
       "\n",
       "Call:\n",
       "lm(formula = I ~ CF + size + MV + CG + TD + CF:TD, data = mydata)\n",
       "\n",
       "Residuals:\n",
       "     Min       1Q   Median       3Q      Max \n",
       "-13.4657  -3.7169   0.5684   3.8081  13.6878 \n",
       "\n",
       "Coefficients:\n",
       "             Estimate Std. Error t value Pr(>|t|)    \n",
       "(Intercept) 35.975601  20.131763   1.787   0.0781 .  \n",
       "CF           0.974415   0.058869  16.552  < 2e-16 ***\n",
       "size        -1.986447   1.358563  -1.462   0.1480    \n",
       "MV           0.005249   0.128391   0.041   0.9675    \n",
       "CG          -0.988054   0.234815  -4.208 7.24e-05 ***\n",
       "TD          -9.639832   4.651081  -2.073   0.0417 *  \n",
       "CF:TD        0.316514   0.218107   1.451   0.1510    \n",
       "---\n",
       "Signif. codes:  0 '***' 0.001 '**' 0.01 '*' 0.05 '.' 0.1 ' ' 1\n",
       "\n",
       "Residual standard error: 5.484 on 73 degrees of freedom\n",
       "Multiple R-squared:  0.8327,\tAdjusted R-squared:  0.819 \n",
       "F-statistic: 60.56 on 6 and 73 DF,  p-value: < 2.2e-16\n"
      ]
     },
     "metadata": {},
     "output_type": "display_data"
    }
   ],
   "source": [
    "reg1 <- lm(I ~ CF + size + MV + CG + TD + CF:TD , data = mydata)\n",
    "coef(reg1)\n",
    "summary(reg1)"
   ]
  },
  {
   "cell_type": "markdown",
   "id": "091023ef",
   "metadata": {},
   "source": [
    "#### Write your answer here\n",
    "TD = 1\n",
    "$$ I_i = 35.975601 +  0.974415 CF_i -1.986447 size_i + 0.005249 MV_i -0.988054 CG_i -9.639832 TD_i + 0.316514(CF_i × TD_i ) $$\n",
    "\n",
    "TD = 0\n",
    "$$ I_i = 35.975601 +  0.974415 CF_i -1.986447 size_i +  0.005249 MV_i -0.988054 CG_i $$\n",
    "\n",
    "The Residuals section shows the minimum, first quartile, median, third quartile, and maximum values of the residuals, which are the differences between the observed values of the dependent variable and the values predicted by the model.\n",
    "The analysis of the multiple regression equation for the overconfident CEO is as follows. The CF,CG and TD of the model are significantly non-zero at p<0.5, indicating that the effect of these variables on I is valid, and the Adjusted R-squared is 0.819, which is a better fit level than the mean model. All else being equal, for every 1 unit increase in CF, I increases by 0.97% and for every 1 unit increase in CG, I decreases by 0.99. The variable CF has a positive coefficient, indicating that higher cash flow is associated with higher investment. On the other hand, the variable CG has a negative coefficient, indicating that a higher number of outside directors who are CEOs in other companies is associated with lower investment.MV and size did not pass the significance test and these two variables could be considered for exclusion from the model. All else being equal the overconfident CEO's I is 9.64% less than the other CEO's. The F-test, which is used to determine the significance test of the equation as a whole, The p-value of the F-test is less than 0.05 and we can assume that the equation passes the significance test at the p=0.05 level.\n"
   ]
  },
  {
   "cell_type": "markdown",
   "id": "73c40081",
   "metadata": {},
   "source": [
    "## c iii)\n",
    "\n",
    "- Evaluate whether the regression equation for CEOs portrayed as overconfident ($TD_i = 1$) is statistically significantly different to the regression equation for non-overconfident CEOs.  Discuss your method and conclusion. (4 marks)"
   ]
  },
  {
   "cell_type": "code",
   "execution_count": 8,
   "id": "ed41de10",
   "metadata": {
    "scrolled": true
   },
   "outputs": [
    {
     "data": {
      "text/plain": [
       "\n",
       "t test of coefficients:\n",
       "\n",
       "              Estimate Std. Error t value  Pr(>|t|)    \n",
       "(Intercept) 35.9756015 21.9011696  1.6426 0.1047598    \n",
       "CF           0.9744149  0.0599582 16.2516 < 2.2e-16 ***\n",
       "size        -1.9864475  1.4793630 -1.3428 0.1835062    \n",
       "MV           0.0052492  0.1266435  0.0414 0.9670513    \n",
       "CG          -0.9880545  0.2567124 -3.8489 0.0002521 ***\n",
       "TD          -9.6398318  7.2528646 -1.3291 0.1879519    \n",
       "CF:TD        0.3165140  0.2953067  1.0718 0.2873340    \n",
       "---\n",
       "Signif. codes:  0 '***' 0.001 '**' 0.01 '*' 0.05 '.' 0.1 ' ' 1\n"
      ]
     },
     "metadata": {},
     "output_type": "display_data"
    }
   ],
   "source": [
    "# Provide your code here\n",
    "\n",
    "se_reg1 <- sqrt(diag(vcovHC(reg1, type=\"HC1\")))\n",
    "coeftest(reg1, vcov. = vcovHC, type = \"HC1\")\n"
   ]
  },
  {
   "cell_type": "markdown",
   "id": "e79d095d",
   "metadata": {},
   "source": [
    "#### Write your answer here\n",
    "​The model is assessed using a method that evaluates adjusted standard errors. It uses the vcovHC function to adjust the standard errors and the coeftest function to calculate the adjusted standard errors.\n",
    "Based on the information provided, the models appear to be well-specified and fit the data well. The adjusted R2 values for the models are high, indicating that a large proportion of the change in investment is explained by the independent variables. In addition, the F-statistics of the models are all statistically significant, indicating that the overall relationship between the dependent and independent variables is not due to chance.\n",
    "However, the coeftest() function was used to perform hypothesis tests on the coefficients of the dummy variables. The function takes the fitted model as an argument and returns a matrix containing the test statistic, p-value, degrees of freedom and confidence intervals for the coefficients.\n",
    "\n",
    "TD is 0.1879519. This p-value is greater than the common significance level of 0.05, which means that there is not sufficient evidence to reject the null hypothesis that the coefficient for TD is equal to zero.\n",
    "TD:CF is 0.2873340. This p-value is greater than the common significance level of 0.05, which means that there is not sufficient evidence to reject the null hypothesis that the coefficient for TD is equal to zero.\n"
   ]
  },
  {
   "cell_type": "markdown",
   "id": "2fdccc68",
   "metadata": {},
   "source": [
    "## c iv)\n",
    "- Write down the predicted investment percentage for CEOs portrayed as overconfident and other CEOs at the mean levels of cashflow, market value, outside directors and size (4 marks)\n",
    "\n",
    "- Comment on the differences between these predicted values. (2 marks)."
   ]
  },
  {
   "cell_type": "code",
   "execution_count": 9,
   "id": "3dd7f8e5",
   "metadata": {
    "scrolled": true
   },
   "outputs": [
    {
     "name": "stdout",
     "output_type": "stream",
     "text": [
      "Predicted investments by overconfident CEOs : 20.15201 \n",
      " Predicted investments by Non-overconfident CEOs : 23.26305"
     ]
    }
   ],
   "source": [
    "CF <- mean(mydata$CF)\n",
    "MV <- mean(mydata$MV)\n",
    "CG <- mean(mydata$CG)\n",
    "size <- mean(mydata$size)\n",
    "\n",
    "# Case 1: Overconfident CEOs\n",
    "pred_I_overconfident <- 35.975601 + 0.974415 * CF - 1.986447 * size + 0.005249 * MV - 0.988054 * CG - 9.639832 * 1 + 0.316514 * CF * 1\n",
    "\n",
    "\n",
    "\n",
    "# Case 2: Non-Overconfident CEOs\n",
    "pred_I_others <- 35.975601 + 0.974415 * CF - 1.986447 * size + 0.005249 * MV - 0.988054 * CG - 9.639832 * 0 + 0.316514 * CF * 0\n",
    "\n",
    "cat(\"Predicted investments by overconfident CEOs :\",pred_I_overconfident,\"\\n\",\"Predicted investments by Non-overconfident CEOs :\",pred_I_others)\n"
   ]
  },
  {
   "cell_type": "markdown",
   "id": "cf207804",
   "metadata": {},
   "source": [
    "#### Write your answers here\n",
    "Overconfident CEOs were predicted to invest less than other CEOs in 2015. This suggests that overconfident CEOs are predicted to invest less than other CEOs.\n",
    "\n",
    "These predictions are based on the mean of the variables CF, MV, CG and size, and the model specified in the code. The actual investments of overconfident CEOs and other CEOs may differ from these predictions.\n",
    "\n",
    "In general, overconfidence can lead to excessive risk-taking and sub-optimal decision-making, which may result in less investment. On the other hand, CEOs who are not overconfident may be more cautious and thoughtful in their decision making, leading to higher predicted investments."
   ]
  },
  {
   "cell_type": "markdown",
   "id": "5e68cd86",
   "metadata": {},
   "source": [
    "# Question 2\n",
    "\n",
    "### Continue to use mydata, your subset from CEOdata, in question 2.\n",
    "## i)\n",
    "\n",
    "You decide to estimate a new specification of the model \n",
    "\n",
    "$$ I_i = β_0+ β_1 CF_i + β_2 CG_i +\n",
    "β_3 MV_i + β_4 TD_i + β_5 CF_i × TD_i + β_6 CF_i^2 + u_i $$\n",
    "\n",
    "Write down the two regression equations for CEOs - one for overconfident (TD = 1) and one for non-overconfident CEOs. (4 marks)"
   ]
  },
  {
   "cell_type": "markdown",
   "id": "5fae51ad",
   "metadata": {},
   "source": [
    "#### Write your answer here\n",
    "TD = 1\n",
    "$$ I_i = β_0+ β_1 CF_i + β_2 CG_i +\n",
    "β_3 MV_i + β_4 TD_i + β_5 CF_i × TD_i + β_6 CF_i^2 + u_i $$\n",
    "TD = 0\n",
    "$$ I_i = β_0+ β_1 CF_i + β_2 CG_i +\n",
    "β_3 MV_i + β_4 CF_i^2 + u_i $$"
   ]
  },
  {
   "cell_type": "markdown",
   "id": "437c45b1",
   "metadata": {},
   "source": [
    "## ii) \n",
    "Estimate the model (2 marks)"
   ]
  },
  {
   "cell_type": "code",
   "execution_count": 13,
   "id": "5b816051",
   "metadata": {},
   "outputs": [
    {
     "data": {
      "text/plain": [
       "\n",
       "t test of coefficients:\n",
       "\n",
       "              Estimate Std. Error t value  Pr(>|t|)    \n",
       "(Intercept)  9.1562194  2.4892949  3.6782 0.0004461 ***\n",
       "CF           0.6720288  0.2539354  2.6465 0.0099574 ** \n",
       "CG          -1.1233098  0.2645435 -4.2462 6.316e-05 ***\n",
       "MV          -0.0591775  0.1448295 -0.4086 0.6840283    \n",
       "TD          -9.2332746 10.3896217 -0.8887 0.3770825    \n",
       "I(CF^2)      0.0077301  0.0063222  1.2227 0.2253753    \n",
       "CF:TD        0.2656008  0.4221650  0.6291 0.5312214    \n",
       "---\n",
       "Signif. codes:  0 '***' 0.001 '**' 0.01 '*' 0.05 '.' 0.1 ' ' 1\n"
      ]
     },
     "metadata": {},
     "output_type": "display_data"
    }
   ],
   "source": [
    "# Provide your code here\n",
    "reg2 <- lm(I ~ CF + CG + MV + TD + CF:TD + I(CF^2) , data = mydata)\n",
    "\n",
    "coeftest(reg2, vcov.=vcovHC)"
   ]
  },
  {
   "cell_type": "markdown",
   "id": "61efd873",
   "metadata": {},
   "source": [
    "## iii) \n",
    "\n",
    "Calculate and discuss the marginal effect of CF at CF = 10, when TD = 0 and when TD = 1. (8 marks)"
   ]
  },
  {
   "cell_type": "code",
   "execution_count": 14,
   "id": "74b7fbe5",
   "metadata": {},
   "outputs": [
    {
     "name": "stdout",
     "output_type": "stream",
     "text": [
      "overconfident CEOs:"
     ]
    },
    {
     "data": {
      "text/html": [
       "<table>\n",
       "<thead><tr><th scope=col>factor</th><th scope=col>CF</th><th scope=col>TD</th><th scope=col>AME</th><th scope=col>SE</th><th scope=col>z</th><th scope=col>p</th><th scope=col>lower</th><th scope=col>upper</th></tr></thead>\n",
       "<tbody>\n",
       "\t<tr><td>CF          </td><td>10          </td><td>1           </td><td> 1.09223255 </td><td>0.2352830   </td><td> 4.6422070  </td><td>3.447073e-06</td><td>  0.6310863 </td><td> 1.5533788  </td></tr>\n",
       "\t<tr><td>CG          </td><td>10          </td><td>1           </td><td>-1.12330978 </td><td>0.2375570   </td><td>-4.7285904  </td><td>2.260839e-06</td><td> -1.5889130 </td><td>-0.6577066  </td></tr>\n",
       "\t<tr><td>MV          </td><td>10          </td><td>1           </td><td>-0.05917753 </td><td>0.1331073   </td><td>-0.4445852  </td><td>6.566195e-01</td><td> -0.3200630 </td><td> 0.2017080  </td></tr>\n",
       "\t<tr><td>TD          </td><td>10          </td><td>1           </td><td>-6.57726624 </td><td>2.8446874   </td><td>-2.3121227  </td><td>2.077093e-02</td><td>-12.1527511 </td><td>-1.0017813  </td></tr>\n",
       "</tbody>\n",
       "</table>\n"
      ],
      "text/latex": [
       "\\begin{tabular}{r|lllllllll}\n",
       " factor & CF & TD & AME & SE & z & p & lower & upper\\\\\n",
       "\\hline\n",
       "\t CF           & 10           & 1            &  1.09223255  & 0.2352830    &  4.6422070   & 3.447073e-06 &   0.6310863  &  1.5533788  \\\\\n",
       "\t CG           & 10           & 1            & -1.12330978  & 0.2375570    & -4.7285904   & 2.260839e-06 &  -1.5889130  & -0.6577066  \\\\\n",
       "\t MV           & 10           & 1            & -0.05917753  & 0.1331073    & -0.4445852   & 6.566195e-01 &  -0.3200630  &  0.2017080  \\\\\n",
       "\t TD           & 10           & 1            & -6.57726624  & 2.8446874    & -2.3121227   & 2.077093e-02 & -12.1527511  & -1.0017813  \\\\\n",
       "\\end{tabular}\n"
      ],
      "text/markdown": [
       "\n",
       "| factor | CF | TD | AME | SE | z | p | lower | upper |\n",
       "|---|---|---|---|---|---|---|---|---|\n",
       "| CF           | 10           | 1            |  1.09223255  | 0.2352830    |  4.6422070   | 3.447073e-06 |   0.6310863  |  1.5533788   |\n",
       "| CG           | 10           | 1            | -1.12330978  | 0.2375570    | -4.7285904   | 2.260839e-06 |  -1.5889130  | -0.6577066   |\n",
       "| MV           | 10           | 1            | -0.05917753  | 0.1331073    | -0.4445852   | 6.566195e-01 |  -0.3200630  |  0.2017080   |\n",
       "| TD           | 10           | 1            | -6.57726624  | 2.8446874    | -2.3121227   | 2.077093e-02 | -12.1527511  | -1.0017813   |\n",
       "\n"
      ],
      "text/plain": [
       "  factor CF TD AME         SE        z          p            lower      \n",
       "1 CF     10 1   1.09223255 0.2352830  4.6422070 3.447073e-06   0.6310863\n",
       "2 CG     10 1  -1.12330978 0.2375570 -4.7285904 2.260839e-06  -1.5889130\n",
       "3 MV     10 1  -0.05917753 0.1331073 -0.4445852 6.566195e-01  -0.3200630\n",
       "4 TD     10 1  -6.57726624 2.8446874 -2.3121227 2.077093e-02 -12.1527511\n",
       "  upper     \n",
       "1  1.5533788\n",
       "2 -0.6577066\n",
       "3  0.2017080\n",
       "4 -1.0017813"
      ]
     },
     "metadata": {},
     "output_type": "display_data"
    },
    {
     "name": "stdout",
     "output_type": "stream",
     "text": [
      "non-overconfident CEOs:"
     ]
    },
    {
     "data": {
      "text/html": [
       "<table>\n",
       "<thead><tr><th scope=col>factor</th><th scope=col>CF</th><th scope=col>TD</th><th scope=col>AME</th><th scope=col>SE</th><th scope=col>z</th><th scope=col>p</th><th scope=col>lower</th><th scope=col>upper</th></tr></thead>\n",
       "<tbody>\n",
       "\t<tr><td>CF          </td><td>10          </td><td>0           </td><td> 0.82663171 </td><td>0.1337503   </td><td> 6.1804089  </td><td>6.393576e-10</td><td>  0.5644859 </td><td> 1.0887775  </td></tr>\n",
       "\t<tr><td>CG          </td><td>10          </td><td>0           </td><td>-1.12330978 </td><td>0.2375570   </td><td>-4.7285904  </td><td>2.260839e-06</td><td> -1.5889130 </td><td>-0.6577066  </td></tr>\n",
       "\t<tr><td>MV          </td><td>10          </td><td>0           </td><td>-0.05917753 </td><td>0.1331073   </td><td>-0.4445853  </td><td>6.566194e-01</td><td> -0.3200630 </td><td> 0.2017079  </td></tr>\n",
       "\t<tr><td>TD          </td><td>10          </td><td>0           </td><td>-6.57726624 </td><td>2.8447082   </td><td>-2.3121058  </td><td>2.077185e-02</td><td>-12.1527918 </td><td>-1.0017406  </td></tr>\n",
       "</tbody>\n",
       "</table>\n"
      ],
      "text/latex": [
       "\\begin{tabular}{r|lllllllll}\n",
       " factor & CF & TD & AME & SE & z & p & lower & upper\\\\\n",
       "\\hline\n",
       "\t CF           & 10           & 0            &  0.82663171  & 0.1337503    &  6.1804089   & 6.393576e-10 &   0.5644859  &  1.0887775  \\\\\n",
       "\t CG           & 10           & 0            & -1.12330978  & 0.2375570    & -4.7285904   & 2.260839e-06 &  -1.5889130  & -0.6577066  \\\\\n",
       "\t MV           & 10           & 0            & -0.05917753  & 0.1331073    & -0.4445853   & 6.566194e-01 &  -0.3200630  &  0.2017079  \\\\\n",
       "\t TD           & 10           & 0            & -6.57726624  & 2.8447082    & -2.3121058   & 2.077185e-02 & -12.1527918  & -1.0017406  \\\\\n",
       "\\end{tabular}\n"
      ],
      "text/markdown": [
       "\n",
       "| factor | CF | TD | AME | SE | z | p | lower | upper |\n",
       "|---|---|---|---|---|---|---|---|---|\n",
       "| CF           | 10           | 0            |  0.82663171  | 0.1337503    |  6.1804089   | 6.393576e-10 |   0.5644859  |  1.0887775   |\n",
       "| CG           | 10           | 0            | -1.12330978  | 0.2375570    | -4.7285904   | 2.260839e-06 |  -1.5889130  | -0.6577066   |\n",
       "| MV           | 10           | 0            | -0.05917753  | 0.1331073    | -0.4445853   | 6.566194e-01 |  -0.3200630  |  0.2017079   |\n",
       "| TD           | 10           | 0            | -6.57726624  | 2.8447082    | -2.3121058   | 2.077185e-02 | -12.1527918  | -1.0017406   |\n",
       "\n"
      ],
      "text/plain": [
       "  factor CF TD AME         SE        z          p            lower      \n",
       "1 CF     10 0   0.82663171 0.1337503  6.1804089 6.393576e-10   0.5644859\n",
       "2 CG     10 0  -1.12330978 0.2375570 -4.7285904 2.260839e-06  -1.5889130\n",
       "3 MV     10 0  -0.05917753 0.1331073 -0.4445853 6.566194e-01  -0.3200630\n",
       "4 TD     10 0  -6.57726624 2.8447082 -2.3121058 2.077185e-02 -12.1527918\n",
       "  upper     \n",
       "1  1.0887775\n",
       "2 -0.6577066\n",
       "3  0.2017079\n",
       "4 -1.0017406"
      ]
     },
     "metadata": {},
     "output_type": "display_data"
    }
   ],
   "source": [
    "# Provide your code here\n",
    "\n",
    "margins_td0 <- margins(reg2, at = list(CF = 10, TD = 0))\n",
    "margins_td1 <- margins(reg2, at = list(CF = 10, TD = 1))\n",
    "\n",
    "#margins_td0\n",
    "#margins_td1\n",
    "cat(\"overconfident CEOs:\")\n",
    "summary(margins_td1)\n",
    "cat(\"non-overconfident CEOs:\")\n",
    "summary(margins_td0)\n"
   ]
  },
  {
   "cell_type": "markdown",
   "id": "22167945",
   "metadata": {},
   "source": [
    "#### Write your answer here\n",
    "summary(margins_td1), which allows you to view the column values for each of the AME predictor variables. This column shows the average marginal effect of the predictor variable at CF=10 and TD=1. For example, a value of CF 1.09223255 for the predictor variable AME means that the average marginal effect of a one unit increase in CF on the outcome variable is 1.09223255 and TD is held at 1. The p column shows the corresponding p value. p values less than the chosen significance level (0.05) indicate that the average marginal effect is statistically significant and therefore has a meaningful effect on the outcome variable.\n",
    "\n",
    "summary(margins_td0), allows one to view the column values for each of the AME predictor variables. This column shows the average marginal effect of the predictor variable at CF=10 and TD=0. For example, a value of CF 0.82663171 for the predictor variable AME means that the mean marginal effect of a one unit increase in CF on the outcome variable is 0.82663171 and TD is held at 0. The p column shows the corresponding p value. p values less than the chosen significance level (0.05) indicate that the mean marginal effect is statistically significant and therefore has a meaningful effect on the outcome variable.\n",
    "\n",
    "Both indicate that an increase in CF has a positive and significantly effective effect on I"
   ]
  },
  {
   "cell_type": "markdown",
   "id": "b60b7e79",
   "metadata": {},
   "source": [
    "## iv)\n",
    "\n",
    "Test the joint significance of the interaction between CF and TD and the quadratic term $CF^2$. (3 marks)"
   ]
  },
  {
   "cell_type": "code",
   "execution_count": 15,
   "id": "ae46d4c7",
   "metadata": {},
   "outputs": [
    {
     "data": {
      "text/html": [
       "<table>\n",
       "<thead><tr><th></th><th scope=col>Sum Sq</th><th scope=col>Df</th><th scope=col>F value</th><th scope=col>Pr(&gt;F)</th></tr></thead>\n",
       "<tbody>\n",
       "\t<tr><th scope=row>CF</th><td> 256.304124 </td><td> 1          </td><td> 8.4826421  </td><td>4.754161e-03</td></tr>\n",
       "\t<tr><th scope=row>CG</th><td> 675.594151 </td><td> 1          </td><td>22.3594662  </td><td>1.074034e-05</td></tr>\n",
       "\t<tr><th scope=row>MV</th><td>   5.972208 </td><td> 1          </td><td> 0.1976562  </td><td>6.579347e-01</td></tr>\n",
       "\t<tr><th scope=row>TD</th><td> 128.607894 </td><td> 1          </td><td> 4.2564073  </td><td>4.265970e-02</td></tr>\n",
       "\t<tr><th scope=row>I(CF^2)</th><td>  54.350439 </td><td> 1          </td><td> 1.7987823  </td><td>1.840178e-01</td></tr>\n",
       "\t<tr><th scope=row>CF:TD</th><td>  46.399296 </td><td> 1          </td><td> 1.5356312  </td><td>2.192387e-01</td></tr>\n",
       "\t<tr><th scope=row>Residuals</th><td>2205.704407 </td><td>73          </td><td>        NA  </td><td>          NA</td></tr>\n",
       "</tbody>\n",
       "</table>\n"
      ],
      "text/latex": [
       "\\begin{tabular}{r|llll}\n",
       "  & Sum Sq & Df & F value & Pr(>F)\\\\\n",
       "\\hline\n",
       "\tCF &  256.304124  &  1           &  8.4826421   & 4.754161e-03\\\\\n",
       "\tCG &  675.594151  &  1           & 22.3594662   & 1.074034e-05\\\\\n",
       "\tMV &    5.972208  &  1           &  0.1976562   & 6.579347e-01\\\\\n",
       "\tTD &  128.607894  &  1           &  4.2564073   & 4.265970e-02\\\\\n",
       "\tI(CF\\textasciicircum{}2) &   54.350439  &  1           &  1.7987823   & 1.840178e-01\\\\\n",
       "\tCF:TD &   46.399296  &  1           &  1.5356312   & 2.192387e-01\\\\\n",
       "\tResiduals & 2205.704407  & 73           &         NA   &           NA\\\\\n",
       "\\end{tabular}\n"
      ],
      "text/markdown": [
       "\n",
       "| <!--/--> | Sum Sq | Df | F value | Pr(>F) |\n",
       "|---|---|---|---|---|\n",
       "| CF |  256.304124  |  1           |  8.4826421   | 4.754161e-03 |\n",
       "| CG |  675.594151  |  1           | 22.3594662   | 1.074034e-05 |\n",
       "| MV |    5.972208  |  1           |  0.1976562   | 6.579347e-01 |\n",
       "| TD |  128.607894  |  1           |  4.2564073   | 4.265970e-02 |\n",
       "| I(CF^2) |   54.350439  |  1           |  1.7987823   | 1.840178e-01 |\n",
       "| CF:TD |   46.399296  |  1           |  1.5356312   | 2.192387e-01 |\n",
       "| Residuals | 2205.704407  | 73           |         NA   |           NA |\n",
       "\n"
      ],
      "text/plain": [
       "          Sum Sq      Df F value    Pr(>F)      \n",
       "CF         256.304124  1  8.4826421 4.754161e-03\n",
       "CG         675.594151  1 22.3594662 1.074034e-05\n",
       "MV           5.972208  1  0.1976562 6.579347e-01\n",
       "TD         128.607894  1  4.2564073 4.265970e-02\n",
       "I(CF^2)     54.350439  1  1.7987823 1.840178e-01\n",
       "CF:TD       46.399296  1  1.5356312 2.192387e-01\n",
       "Residuals 2205.704407 73         NA           NA"
      ]
     },
     "metadata": {},
     "output_type": "display_data"
    }
   ],
   "source": [
    "# Provide your code here\n",
    "Anova(reg2)"
   ]
  },
  {
   "cell_type": "markdown",
   "id": "af846207",
   "metadata": {},
   "source": [
    "#### Write your answer here\n",
    "The ANOVA table assesses the overall significance of the model and the significance of each individual term in the model. To assess the joint significance of the interaction term CF:TD and the quadratic term CF^2, the p-values of these two terms are viewed in the Pr(>F) column. In this case, the p-values for both terms are relatively large (0.22 and 0.18 respectively), suggesting that these terms may not be significantly different from zero. However, this conclusion should be interpreted with caution; it depends on the level of significance chosen and the sample size of the data. It is possible that the small amount of data led to this conclusion."
   ]
  },
  {
   "cell_type": "markdown",
   "id": "7450c54d",
   "metadata": {},
   "source": [
    "## v)\n",
    "Is it meaningful to compare the standard error of the two regression specifications?  \n",
    "Explain your answer. (5 marks)"
   ]
  },
  {
   "cell_type": "markdown",
   "id": "42101a42",
   "metadata": {},
   "source": [
    "#### Write your answer here\n",
    "It is important to compare the standard errors of the two regression specifications because the standard error is a measure of the uncertainty or error in the predictions of the regression model. A lower standard error indicates that the model is more accurate and fits the data better than the model with a higher standard error. By comparing the standard errors of two regression specifications, it is possible to determine which model is more reliable and better able to make accurate predictions based on the data. The most appropriate model can be selected to improve the accuracy of the results."
   ]
  },
  {
   "cell_type": "markdown",
   "id": "72803caa",
   "metadata": {},
   "source": [
    "# Question 3\n",
    "\n",
    "You should now work with the full panel data set.\n",
    "\n",
    "## i)\n",
    "\n",
    "Explain why you would want to estimate a model with fixed effects.(4 marks)"
   ]
  },
  {
   "cell_type": "markdown",
   "id": "591afd27",
   "metadata": {},
   "source": [
    "#### Write your answer here\n",
    "The use of fixed effects models in this study is useful for several reasons.\n",
    "Firstly using a fixed effects model allows us to isolate the effect of a time-invariant variable (CEO overconfidence) on the outcome of interest (investment decision) and hold it constant across the sample, comparing the effect of time-varying variables such as cash flow and market value of assets. This could provide stronger evidence for the overconfidence hypothesis and help us to better understand the relationship between CEO overconfidence and corporate investment decisions.\n",
    "\n",
    "Secondly, the data used in the study has a panel structure, i.e. the same CEOs are observed at multiple points in time. fixed effects models are well suited to deal with panel data and can help explain the correlation errors that arise in such data. This can lead to more accurate and reliable estimates of the relationship between CEO overconfidence and corporate investment decisions.\n",
    "\n",
    "Overall, the fixed effects model should be used in this case and can help us to obtain more accurate and reliable estimates of the relationship between CEO overconfidence and firm investment decisions."
   ]
  },
  {
   "cell_type": "markdown",
   "id": "72b08816",
   "metadata": {},
   "source": [
    "## ii) \n",
    "\n",
    "How many fixed effects parameters will you estimate in a model with time and entity fixed effects? Explain your answer (3 marks)"
   ]
  },
  {
   "cell_type": "markdown",
   "id": "f3a61763",
   "metadata": {},
   "source": [
    "#### Write your answer here\n",
    "In a model with time and entity fixed effects, we should estimate one fixed effect parameter for each time period and one fixed effect parameter for each entity. In this case, the data set includes 8 years and 80 firm observations, so we will estimate 80 + (8-1) + 1 = 88, so we will estimate 88 fixed effect parameters."
   ]
  },
  {
   "cell_type": "markdown",
   "id": "8fb00fa5",
   "metadata": {},
   "source": [
    "## iii)\n",
    "\n",
    "Estimate a linear-linear model with time and entity fixed effects. The dependent variable should be Investment, $I_{it}$. (5 marks)"
   ]
  },
  {
   "cell_type": "code",
   "execution_count": 16,
   "id": "d672ee93",
   "metadata": {},
   "outputs": [
    {
     "data": {
      "text/plain": [
       "\n",
       "t test of coefficients:\n",
       "\n",
       "      Estimate Std. Error t value  Pr(>|t|)    \n",
       "CF    1.017728   0.020488 49.6735 < 2.2e-16 ***\n",
       "CG   -0.701509   0.345587 -2.0299  0.042850 *  \n",
       "TD   -3.187500   0.931004 -3.4237  0.000664 ***\n",
       "MV   -0.815522   0.398171 -2.0482  0.041020 *  \n",
       "S    -0.349901   0.182442 -1.9179  0.055647 .  \n",
       "size -0.097475   0.500437 -0.1948  0.845637    \n",
       "---\n",
       "Signif. codes:  0 '***' 0.001 '**' 0.01 '*' 0.05 '.' 0.1 ' ' 1\n"
      ]
     },
     "metadata": {},
     "output_type": "display_data"
    },
    {
     "data": {
      "text/plain": [
       "Twoways effects Within Model\n",
       "\n",
       "Call:\n",
       "plm(formula = I ~ CF + CG + TD + MV + S + size, data = CEOdata, \n",
       "    effect = \"twoways\", model = \"within\", index = c(\"year\", \"firmid\"))\n",
       "\n",
       "Balanced Panel: n = 8, T = 80, N = 640\n",
       "\n",
       "Residuals:\n",
       "     Min.   1st Qu.    Median   3rd Qu.      Max. \n",
       "-14.75249  -3.37340  -0.17273   3.44189  16.85258 \n",
       "\n",
       "Coefficients:\n",
       "      Estimate Std. Error t-value  Pr(>|t|)    \n",
       "CF    1.017728   0.020488 49.6735 < 2.2e-16 ***\n",
       "CG   -0.701509   0.345587 -2.0299  0.042850 *  \n",
       "TD   -3.187500   0.931004 -3.4237  0.000664 ***\n",
       "MV   -0.815522   0.398171 -2.0482  0.041020 *  \n",
       "S    -0.349901   0.182442 -1.9179  0.055647 .  \n",
       "size -0.097475   0.500437 -0.1948  0.845637    \n",
       "---\n",
       "Signif. codes:  0 '***' 0.001 '**' 0.01 '*' 0.05 '.' 0.1 ' ' 1\n",
       "\n",
       "Total Sum of Squares:    89460\n",
       "Residual Sum of Squares: 15887\n",
       "R-Squared:      0.82241\n",
       "Adj. R-Squared: 0.79254\n",
       "F-statistic: 422.186 on 6 and 547 DF, p-value: < 2.22e-16"
      ]
     },
     "metadata": {},
     "output_type": "display_data"
    }
   ],
   "source": [
    "# Load the plm library\n",
    "library(plm)\n",
    "# Estimate the regression\n",
    "regplm <- plm(I~ CF + CG + TD + MV + S + size , \n",
    "              index = c(\"year\", \"firmid\"),\n",
    "              data = CEOdata, \n",
    "              model = \"within\", \n",
    "              effect = \"twoways\")\n",
    "\n",
    "# Test the coefficients\n",
    "coeftest(regplm)\n",
    "summary(regplm)"
   ]
  },
  {
   "cell_type": "markdown",
   "id": "e6db5c0d",
   "metadata": {},
   "source": [
    "Interpret your results in relation to CEO overconfidence, TD, using the panel data method. (4 marks)\n",
    "\n",
    "Do you find a statistically significant difference between overconfident and non-overconfident CEOs? (1 mark)\n",
    "\n",
    "#### Write your answer here\n",
    "-The results of this panel data analysis show a statistically significant negative relationship between whether the CEO is overconfident (TD) and I, with a coefficient of -3.1875 and a p-value of 0.000664. This is consistent with the idea that overconfident CEOs may make decisions that negatively affect I. Furthermore, the high R-squared value of 0.82241 suggests that a large amount of variation in the dependent variable can be explained by the predictors in the model.\n",
    "\n",
    "-No statistically significant differences were found between overconfident and non-overconfident CEOs from the analysis above. The results provided only show the relationship between CEO overconfidence (TD) and the dependent variable (I) and do not refer to any comparison between overconfident and non-overconfident CEOs. Additional analysis is required."
   ]
  },
  {
   "cell_type": "markdown",
   "id": "8711ee0a",
   "metadata": {},
   "source": [
    "## iv)\n",
    "\n",
    "Wider research has found a relationship between the age of CEOs, investments and cash flow sensitivity (Gupta, 2022; Belenzon et al, 2019).  \n",
    "\n",
    "- Explain whether it would be possible to re-estimate the model including a variable capturing each CEOs age in each time period. (5 marks)\n",
    "- Explain how you would test whether age affects the investment-cash flow sensitivity of CEOs. Describe the model you would estimate and the relevant test with the null and alternative hypotheses and relevant degrees of freedom. (8 marks)\n",
    "\n",
    "\n",
    "*References*\n",
    "- Gupta, G. (2022). CEO's age and investment‐cash flow sensitivity. Managerial and Decision Economics.\n",
    "- Barba Navaretti, G., Castellani, D., & Pieri, F. (2022). CEO age, shareholder monitoring, and the organic growth of European firms. Small Business Economics, 59(1), 361-382.\n",
    "- Belenzon, S., Shamshur, A., & Zarutskie, R. (2019). CEO's age and the performance of closely held firms. Strategic Management Journal, 40(6), 917-944."
   ]
  },
  {
   "cell_type": "markdown",
   "id": "0b74d586",
   "metadata": {},
   "source": [
    "#### Write your answer here\n",
    "\n",
    "The model can be re-estimated to include variables for the age of the CEO within each time period. To do this, data on the age of each CEO within each time period would need to be available and would need to be collected and added to the CEOdata dataset. I can then include this variable as an additional predictor in the linear regression model, along with the other predictors in the original model.\n",
    "\n",
    "To test whether the age of the CEO affects the investment-cash flow sensitivity of the CEO, a linear regression model is estimated with a dependent variable of (I) and a predictor of \"CF\". The age of the CEO can then be included as an additional predictor in the model \"age\". In this case, the null hypothesis is that the age of the CEO has no effect on investment-cash flow sensitivity, while the alternative hypothesis is that the age of the CEO does affect investment-cash flow sensitivity.\n",
    "\n",
    "To estimate this model, you could use the following code:\n",
    "\n",
    "lm(I ~ CF + age, data = CEOdata)\n",
    "\n",
    "Then use the summary() function to see the estimated coefficients and p-values for the 'age' predictors, which will indicate whether there is a statistically significant relationship between these variables.This will show the estimated coefficients of the 'age' predictors, along with their standard errors, t-values and p-values. A small p-value indicates a statistically significant relationship between the CEO's age and the dependent variable and allows the null hypothesis to be rejected in favour of the alternative hypothesis.\n"
   ]
  }
 ],
 "metadata": {
  "kernelspec": {
   "display_name": "R",
   "language": "R",
   "name": "ir"
  },
  "language_info": {
   "codemirror_mode": "r",
   "file_extension": ".r",
   "mimetype": "text/x-r-source",
   "name": "R",
   "pygments_lexer": "r",
   "version": "3.6.1"
  }
 },
 "nbformat": 4,
 "nbformat_minor": 5
}
